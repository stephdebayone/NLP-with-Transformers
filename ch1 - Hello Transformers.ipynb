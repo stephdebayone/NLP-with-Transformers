{
 "cells": [
  {
   "cell_type": "code",
   "execution_count": 1,
   "id": "230d8ef3",
   "metadata": {},
   "outputs": [],
   "source": [
    "from transformers import pipeline \n",
    "import pandas as pd \n",
    "from transformers import TFAutoModelForTokenClassification\n",
    "\n",
    "\n",
    "modelId = \"bert-base-multilingual-cased\"\n",
    "# model = TFAutoModelForTokenClassification.from_pretrained(modelId)\n",
    "modelId = None "
   ]
  },
  {
   "cell_type": "markdown",
   "id": "4d6b09bc",
   "metadata": {},
   "source": [
    "### Text classification"
   ]
  },
  {
   "cell_type": "code",
   "execution_count": 2,
   "id": "a18142db",
   "metadata": {},
   "outputs": [
    {
     "name": "stderr",
     "output_type": "stream",
     "text": [
      "No model was supplied, defaulted to distilbert-base-uncased-finetuned-sst-2-english and revision af0f99b (https://huggingface.co/distilbert-base-uncased-finetuned-sst-2-english).\n",
      "Using a pipeline without specifying a model name and revision in production is not recommended.\n"
     ]
    }
   ],
   "source": [
    "classifier =  pipeline('text-classification' ) "
   ]
  },
  {
   "cell_type": "code",
   "execution_count": 3,
   "id": "99b49073",
   "metadata": {},
   "outputs": [],
   "source": [
    "text = \"\"\"Cet arbre trois fois centenaire de la forêt de Brocéliande est tombé à cause de la tempête Ciaran\n",
    "Vieux de 300 ans, le hêtre de Ponthus était l’un des arbres remarquables de la forêt de Paimpont (Ille-et-Vilaine). \n",
    "Il s’est cassé, victime de la tempête Ciaran dans la nuit du 1er au 2 novembre 2023. « Nous sommes tous très tristes. \n",
    "Il était notre grand sage de la forêt », commente, ému, Philippe Manguin, photographe.\"\"\""
   ]
  },
  {
   "cell_type": "code",
   "execution_count": 4,
   "id": "b0c7b9b1",
   "metadata": {},
   "outputs": [
    {
     "data": {
      "text/html": [
       "<div>\n",
       "<style scoped>\n",
       "    .dataframe tbody tr th:only-of-type {\n",
       "        vertical-align: middle;\n",
       "    }\n",
       "\n",
       "    .dataframe tbody tr th {\n",
       "        vertical-align: top;\n",
       "    }\n",
       "\n",
       "    .dataframe thead th {\n",
       "        text-align: right;\n",
       "    }\n",
       "</style>\n",
       "<table border=\"1\" class=\"dataframe\">\n",
       "  <thead>\n",
       "    <tr style=\"text-align: right;\">\n",
       "      <th></th>\n",
       "      <th>label</th>\n",
       "      <th>score</th>\n",
       "    </tr>\n",
       "  </thead>\n",
       "  <tbody>\n",
       "    <tr>\n",
       "      <th>0</th>\n",
       "      <td>NEGATIVE</td>\n",
       "      <td>0.977983</td>\n",
       "    </tr>\n",
       "  </tbody>\n",
       "</table>\n",
       "</div>"
      ],
      "text/plain": [
       "      label     score\n",
       "0  NEGATIVE  0.977983"
      ]
     },
     "execution_count": 4,
     "metadata": {},
     "output_type": "execute_result"
    }
   ],
   "source": [
    "outputs = classifier(text) \n",
    "pd.DataFrame(outputs)"
   ]
  },
  {
   "cell_type": "markdown",
   "id": "b2f354ee",
   "metadata": {},
   "source": [
    "### Named Entity Recognition"
   ]
  },
  {
   "cell_type": "markdown",
   "id": "9a79b527",
   "metadata": {},
   "source": [
    "#### Note : quand on fournit comme modèle bert-base-multilingual-cased on a une exception. "
   ]
  },
  {
   "cell_type": "code",
   "execution_count": 5,
   "id": "58f27de8",
   "metadata": {},
   "outputs": [
    {
     "name": "stderr",
     "output_type": "stream",
     "text": [
      "No model was supplied, defaulted to dbmdz/bert-large-cased-finetuned-conll03-english and revision f2482bf (https://huggingface.co/dbmdz/bert-large-cased-finetuned-conll03-english).\n",
      "Using a pipeline without specifying a model name and revision in production is not recommended.\n",
      "Some weights of the model checkpoint at dbmdz/bert-large-cased-finetuned-conll03-english were not used when initializing BertForTokenClassification: ['bert.pooler.dense.bias', 'bert.pooler.dense.weight']\n",
      "- This IS expected if you are initializing BertForTokenClassification from the checkpoint of a model trained on another task or with another architecture (e.g. initializing a BertForSequenceClassification model from a BertForPreTraining model).\n",
      "- This IS NOT expected if you are initializing BertForTokenClassification from the checkpoint of a model that you expect to be exactly identical (initializing a BertForSequenceClassification model from a BertForSequenceClassification model).\n"
     ]
    },
    {
     "data": {
      "text/html": [
       "<div>\n",
       "<style scoped>\n",
       "    .dataframe tbody tr th:only-of-type {\n",
       "        vertical-align: middle;\n",
       "    }\n",
       "\n",
       "    .dataframe tbody tr th {\n",
       "        vertical-align: top;\n",
       "    }\n",
       "\n",
       "    .dataframe thead th {\n",
       "        text-align: right;\n",
       "    }\n",
       "</style>\n",
       "<table border=\"1\" class=\"dataframe\">\n",
       "  <thead>\n",
       "    <tr style=\"text-align: right;\">\n",
       "      <th></th>\n",
       "      <th>entity_group</th>\n",
       "      <th>score</th>\n",
       "      <th>word</th>\n",
       "      <th>start</th>\n",
       "      <th>end</th>\n",
       "    </tr>\n",
       "  </thead>\n",
       "  <tbody>\n",
       "    <tr>\n",
       "      <th>0</th>\n",
       "      <td>PER</td>\n",
       "      <td>0.524530</td>\n",
       "      <td>Ce</td>\n",
       "      <td>0</td>\n",
       "      <td>2</td>\n",
       "    </tr>\n",
       "    <tr>\n",
       "      <th>1</th>\n",
       "      <td>LOC</td>\n",
       "      <td>0.713280</td>\n",
       "      <td>Brocéliande</td>\n",
       "      <td>47</td>\n",
       "      <td>58</td>\n",
       "    </tr>\n",
       "    <tr>\n",
       "      <th>2</th>\n",
       "      <td>PER</td>\n",
       "      <td>0.443098</td>\n",
       "      <td>C</td>\n",
       "      <td>91</td>\n",
       "      <td>92</td>\n",
       "    </tr>\n",
       "    <tr>\n",
       "      <th>3</th>\n",
       "      <td>LOC</td>\n",
       "      <td>0.357545</td>\n",
       "      <td>##iara</td>\n",
       "      <td>92</td>\n",
       "      <td>96</td>\n",
       "    </tr>\n",
       "    <tr>\n",
       "      <th>4</th>\n",
       "      <td>PER</td>\n",
       "      <td>0.215788</td>\n",
       "      <td>##n</td>\n",
       "      <td>96</td>\n",
       "      <td>97</td>\n",
       "    </tr>\n",
       "    <tr>\n",
       "      <th>5</th>\n",
       "      <td>LOC</td>\n",
       "      <td>0.985734</td>\n",
       "      <td>Ponthus</td>\n",
       "      <td>128</td>\n",
       "      <td>135</td>\n",
       "    </tr>\n",
       "    <tr>\n",
       "      <th>6</th>\n",
       "      <td>LOC</td>\n",
       "      <td>0.830006</td>\n",
       "      <td>Paimpont</td>\n",
       "      <td>186</td>\n",
       "      <td>194</td>\n",
       "    </tr>\n",
       "    <tr>\n",
       "      <th>7</th>\n",
       "      <td>LOC</td>\n",
       "      <td>0.973486</td>\n",
       "      <td>Ille - et - Vilaine</td>\n",
       "      <td>196</td>\n",
       "      <td>211</td>\n",
       "    </tr>\n",
       "    <tr>\n",
       "      <th>8</th>\n",
       "      <td>PER</td>\n",
       "      <td>0.522639</td>\n",
       "      <td>C</td>\n",
       "      <td>253</td>\n",
       "      <td>254</td>\n",
       "    </tr>\n",
       "    <tr>\n",
       "      <th>9</th>\n",
       "      <td>ORG</td>\n",
       "      <td>0.391045</td>\n",
       "      <td>##iara</td>\n",
       "      <td>254</td>\n",
       "      <td>258</td>\n",
       "    </tr>\n",
       "    <tr>\n",
       "      <th>10</th>\n",
       "      <td>MISC</td>\n",
       "      <td>0.327477</td>\n",
       "      <td>##n</td>\n",
       "      <td>258</td>\n",
       "      <td>259</td>\n",
       "    </tr>\n",
       "    <tr>\n",
       "      <th>11</th>\n",
       "      <td>PER</td>\n",
       "      <td>0.998308</td>\n",
       "      <td>Philippe Manguin</td>\n",
       "      <td>390</td>\n",
       "      <td>406</td>\n",
       "    </tr>\n",
       "  </tbody>\n",
       "</table>\n",
       "</div>"
      ],
      "text/plain": [
       "   entity_group     score                 word  start  end\n",
       "0           PER  0.524530                   Ce      0    2\n",
       "1           LOC  0.713280          Brocéliande     47   58\n",
       "2           PER  0.443098                    C     91   92\n",
       "3           LOC  0.357545               ##iara     92   96\n",
       "4           PER  0.215788                  ##n     96   97\n",
       "5           LOC  0.985734              Ponthus    128  135\n",
       "6           LOC  0.830006             Paimpont    186  194\n",
       "7           LOC  0.973486  Ille - et - Vilaine    196  211\n",
       "8           PER  0.522639                    C    253  254\n",
       "9           ORG  0.391045               ##iara    254  258\n",
       "10         MISC  0.327477                  ##n    258  259\n",
       "11          PER  0.998308     Philippe Manguin    390  406"
      ]
     },
     "execution_count": 5,
     "metadata": {},
     "output_type": "execute_result"
    }
   ],
   "source": [
    "\n",
    "ner_tagger = pipeline(\"ner\",aggregation_strategy=\"simple\")\n",
    "outputs = ner_tagger(text)\n",
    "pd.DataFrame(outputs)"
   ]
  },
  {
   "cell_type": "markdown",
   "id": "b00561c0",
   "metadata": {},
   "source": [
    "### Question answering"
   ]
  },
  {
   "cell_type": "code",
   "execution_count": 6,
   "id": "7052596b",
   "metadata": {},
   "outputs": [
    {
     "name": "stderr",
     "output_type": "stream",
     "text": [
      "No model was supplied, defaulted to distilbert-base-cased-distilled-squad and revision 626af31 (https://huggingface.co/distilbert-base-cased-distilled-squad).\n",
      "Using a pipeline without specifying a model name and revision in production is not recommended.\n"
     ]
    },
    {
     "name": "stdout",
     "output_type": "stream",
     "text": [
      "      score  start  end          answer\n",
      "0  0.073886    215  229  Il s’est cassé\n"
     ]
    },
    {
     "data": {
      "text/html": [
       "<div>\n",
       "<style scoped>\n",
       "    .dataframe tbody tr th:only-of-type {\n",
       "        vertical-align: middle;\n",
       "    }\n",
       "\n",
       "    .dataframe tbody tr th {\n",
       "        vertical-align: top;\n",
       "    }\n",
       "\n",
       "    .dataframe thead th {\n",
       "        text-align: right;\n",
       "    }\n",
       "</style>\n",
       "<table border=\"1\" class=\"dataframe\">\n",
       "  <thead>\n",
       "    <tr style=\"text-align: right;\">\n",
       "      <th></th>\n",
       "      <th>score</th>\n",
       "      <th>start</th>\n",
       "      <th>end</th>\n",
       "      <th>answer</th>\n",
       "    </tr>\n",
       "  </thead>\n",
       "  <tbody>\n",
       "    <tr>\n",
       "      <th>0</th>\n",
       "      <td>0.061515</td>\n",
       "      <td>215</td>\n",
       "      <td>229</td>\n",
       "      <td>Il s’est cassé</td>\n",
       "    </tr>\n",
       "  </tbody>\n",
       "</table>\n",
       "</div>"
      ],
      "text/plain": [
       "      score  start  end          answer\n",
       "0  0.061515    215  229  Il s’est cassé"
      ]
     },
     "execution_count": 6,
     "metadata": {},
     "output_type": "execute_result"
    }
   ],
   "source": [
    "reader = pipeline('question-answering')  \n",
    "question = \"Que s'est il passé dans la nuit du 1°er au 2 Novembre 2023 ?\"\n",
    "outputs = reader(question=question,context=text)\n",
    "print(pd.DataFrame([outputs])) \n",
    "question = \"Qu'est il arrivé à l'arbre dans la nuit du 1°er au 2 Novembre 2023 ?\"\n",
    "outputs = reader(question=question,context=text)\n",
    "pd.DataFrame([outputs])\n"
   ]
  },
  {
   "cell_type": "markdown",
   "id": "d1a47921",
   "metadata": {},
   "source": [
    "#### Résumé"
   ]
  },
  {
   "cell_type": "code",
   "execution_count": 7,
   "id": "9e01887d",
   "metadata": {},
   "outputs": [
    {
     "name": "stderr",
     "output_type": "stream",
     "text": [
      "No model was supplied, defaulted to sshleifer/distilbart-cnn-12-6 and revision a4f8f3e (https://huggingface.co/sshleifer/distilbart-cnn-12-6).\n",
      "Using a pipeline without specifying a model name and revision in production is not recommended.\n"
     ]
    },
    {
     "data": {
      "application/vnd.jupyter.widget-view+json": {
       "model_id": "2e7c6c75992f4485919d5d4d05f28294",
       "version_major": 2,
       "version_minor": 0
      },
      "text/plain": [
       "Downloading (…)lve/main/config.json:   0%|          | 0.00/1.80k [00:00<?, ?B/s]"
      ]
     },
     "metadata": {},
     "output_type": "display_data"
    },
    {
     "data": {
      "application/vnd.jupyter.widget-view+json": {
       "model_id": "812dcb1ed81546429b7d2257a1a8a30b",
       "version_major": 2,
       "version_minor": 0
      },
      "text/plain": [
       "Downloading pytorch_model.bin:   0%|          | 0.00/1.22G [00:00<?, ?B/s]"
      ]
     },
     "metadata": {},
     "output_type": "display_data"
    },
    {
     "data": {
      "application/vnd.jupyter.widget-view+json": {
       "model_id": "94edd25daaa7435f8cab4737b2c5b28f",
       "version_major": 2,
       "version_minor": 0
      },
      "text/plain": [
       "Downloading (…)okenizer_config.json:   0%|          | 0.00/26.0 [00:00<?, ?B/s]"
      ]
     },
     "metadata": {},
     "output_type": "display_data"
    },
    {
     "data": {
      "application/vnd.jupyter.widget-view+json": {
       "model_id": "4042af6974f54bb782d565ce7d824e68",
       "version_major": 2,
       "version_minor": 0
      },
      "text/plain": [
       "Downloading (…)olve/main/vocab.json:   0%|          | 0.00/899k [00:00<?, ?B/s]"
      ]
     },
     "metadata": {},
     "output_type": "display_data"
    },
    {
     "data": {
      "application/vnd.jupyter.widget-view+json": {
       "model_id": "80984e5590f64802854a0a018bafa521",
       "version_major": 2,
       "version_minor": 0
      },
      "text/plain": [
       "Downloading (…)olve/main/merges.txt:   0%|          | 0.00/456k [00:00<?, ?B/s]"
      ]
     },
     "metadata": {},
     "output_type": "display_data"
    },
    {
     "name": "stderr",
     "output_type": "stream",
     "text": [
      "Your min_length=56 must be inferior than your max_length=45.\n",
      "C:\\Users\\stallard\\AppData\\Local\\anaconda3\\Lib\\site-packages\\transformers\\generation\\utils.py:1298: UserWarning: Unfeasible length constraints: `min_length` (56) is larger than the maximum possible length (45). Generation will stop at the defined maximum length. You should decrease the minimum length and/or increase the maximum length.\n",
      "  warnings.warn(\n"
     ]
    },
    {
     "name": "stdout",
     "output_type": "stream",
     "text": [
      "< Le hêtre de Ponthus était l’un des arbres remarquables de la forêt de Paimpont (Ille-et-Vilaine)>\n"
     ]
    },
    {
     "data": {
      "text/plain": [
       "97"
      ]
     },
     "execution_count": 7,
     "metadata": {},
     "output_type": "execute_result"
    }
   ],
   "source": [
    "summarizer = pipeline('summarization') \n",
    "outputs = summarizer(text, max_length=45,clean_up_tokenization_spaces=True) \n",
    "print(\"<%s>\" % outputs[0]['summary_text']) \n",
    "t = outputs[0]['summary_text'] \n",
    "len(t)"
   ]
  },
  {
   "cell_type": "markdown",
   "id": "1ba0e491",
   "metadata": {},
   "source": [
    "#### Traduction "
   ]
  },
  {
   "cell_type": "code",
   "execution_count": 11,
   "id": "e6858e3f",
   "metadata": {
    "scrolled": true
   },
   "outputs": [
    {
     "data": {
      "application/vnd.jupyter.widget-view+json": {
       "model_id": "69227acbce4042fda480680ce487ef0a",
       "version_major": 2,
       "version_minor": 0
      },
      "text/plain": [
       "Downloading pytorch_model.bin:   0%|          | 0.00/301M [00:00<?, ?B/s]"
      ]
     },
     "metadata": {},
     "output_type": "display_data"
    },
    {
     "name": "stdout",
     "output_type": "stream",
     "text": [
      "This three-hundred-year-old tree of the Broceliande forest fell because of the storm Ciaran 300 years old, the beech of Ponthus was one of the remarkable trees of the forest of Paimpont (Ille-et-Vilaine). It broke down, victim of the storm Ciaran on the night of November 1 to 2, 2023. \"We are all very sad. He was our great sage of the forest\", commented, moved, Philippe Manguin, photographer.\n"
     ]
    }
   ],
   "source": [
    "model = \"Helsinki-NLP/opus-mt-fr-en\" \n",
    "translator = pipeline('translation_fr_to_en'  , model=model ) \n",
    "outputs = translator(text,clean_up_tokenization_spaces=True,min_length=100)\n",
    "print(outputs[0]['translation_text'])\n"
   ]
  },
  {
   "cell_type": "markdown",
   "id": "6f105fda",
   "metadata": {},
   "source": [
    "#### Génération de texte"
   ]
  },
  {
   "cell_type": "code",
   "execution_count": 16,
   "id": "f6eb6af1",
   "metadata": {},
   "outputs": [
    {
     "name": "stdout",
     "output_type": "stream",
     "text": [
      "Cet arbre trois fois centenaire de la forêt de Brocéliande est tombé à cause de la tempête Ciaran\n",
      "Vieux de 300 ans, le hêtre de Ponthus était l’un des arbres remarquables de la forêt de Paimpont (Ille-et-Vilaine). \n",
      "Il s’est cassé, victime de la tempête Ciaran dans la nuit du 1er au 2 novembre 2023. « Nous sommes tous très tristes. \n",
      "Il était notre grand sage de la forêt », commente, ému, Philippe Manguin, photographe.\n",
      "\n",
      "Commentaire du journal de 20 heures :\n",
      "Le hêtre de Ponthus était l’un des arbres remarquables de la forêt de Paimpont (Ille-et-Vilaine)ColumNIQUERIQUERIQUERIQUERIQUERIQUERIQUERIQUERIQUERIQUERIQUERIQUERIQUERIQUERIQUERIQUERIQUERIQUERIQUERIQUERIQUERIQUERIQUERIQUERIQUERIQUERIQUERIQUERIQUERIQUERIQUERIQUERIQUERIQUERIQUERIQUERIQUERIQUERIQUERIQUERIQUERIQUERIQUERIQUERIQUERIQUERIQUERIQUERIQUERIQUERIQUERIQUERIQUERIQUERIQUERIQUERIQUERIQUERIQUERIQUERIQUERIQUERIQUERIQUERIQUERIQUERIQUERIQUETRIQUETRIQUETRIQUETRIQUETRIQUERIQUESTULTIQUERIQUERIQUERIQUERIQUERIQUERIQUERIQUESTTRIRTRIRTRIRTRIRULTUMURSTULTUMULTUMULTUMULTUMULTUMULTUMULTUMULTUMULTUMULTUMULTUMULTUMULTUMULTUMULTUMULTUMULTUMULTUMULTUMULTUMULTUMULTUMULTUMULTUMULTUMULTUMULTUMULTUMULTUMULTUMULTUMULTUMULTUMULTUMULTUMINT\n"
     ]
    }
   ],
   "source": [
    "model = \"Helsinki-NLP/opus-mt-fr-en\" \n",
    "generator = pipeline('text-generation',model=model)\n",
    "response = \"Le hêtre de Ponthus était l’un des arbres remarquables de la forêt de Paimpont (Ille-et-Vilaine)\"\n",
    "prompt = text + \"\\n\\nCommentaire du journal de 20 heures :\\n\" + response \n",
    "outputs = generator(prompt,max_length=400)\n",
    "print(outputs[0]['generated_text'])"
   ]
  },
  {
   "cell_type": "code",
   "execution_count": null,
   "id": "264d9bbc",
   "metadata": {},
   "outputs": [],
   "source": []
  }
 ],
 "metadata": {
  "kernelspec": {
   "display_name": "Python 3 (ipykernel)",
   "language": "python",
   "name": "python3"
  },
  "language_info": {
   "codemirror_mode": {
    "name": "ipython",
    "version": 3
   },
   "file_extension": ".py",
   "mimetype": "text/x-python",
   "name": "python",
   "nbconvert_exporter": "python",
   "pygments_lexer": "ipython3",
   "version": "3.11.4"
  }
 },
 "nbformat": 4,
 "nbformat_minor": 5
}
